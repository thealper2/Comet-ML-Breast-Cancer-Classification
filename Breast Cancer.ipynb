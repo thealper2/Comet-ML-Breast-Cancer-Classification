{
 "cells": [
  {
   "cell_type": "code",
   "execution_count": null,
   "id": "0ad7bc49",
   "metadata": {},
   "outputs": [],
   "source": [
    "import warnings\n",
    "warnings.filterwarnings(\"ignore\")"
   ]
  },
  {
   "cell_type": "code",
   "execution_count": null,
   "id": "28ef7ed8",
   "metadata": {},
   "outputs": [],
   "source": [
    "import numpy as np\n",
    "import pandas as pd\n",
    "from sklearn.datasets import load_breast_cancer\n",
    "\n",
    "breast_cancer = load_breast_cancer()"
   ]
  },
  {
   "cell_type": "code",
   "execution_count": null,
   "id": "98663520",
   "metadata": {},
   "outputs": [],
   "source": [
    "breast_cancer.feature_names"
   ]
  },
  {
   "cell_type": "code",
   "execution_count": null,
   "id": "3e57f7ac",
   "metadata": {},
   "outputs": [],
   "source": [
    "from comet_ml import Experiment\n",
    "\n",
    "experiment = Experiment()\n",
    "experiment.set_name(\"Breast Cancer Classification\")\n",
    "experiment.add_tag(\"Breast Cancer Classification\")"
   ]
  },
  {
   "cell_type": "code",
   "execution_count": null,
   "id": "805ec43f",
   "metadata": {},
   "outputs": [],
   "source": [
    "df.info()"
   ]
  },
  {
   "cell_type": "code",
   "execution_count": null,
   "id": "e74e0db6",
   "metadata": {},
   "outputs": [],
   "source": [
    "df = pd.DataFrame(data=np.c_[breast_cancer['data'], breast_cancer['target']])\n",
    "df.columns = ['mean radius', 'mean texture', 'mean perimeter', 'mean area',\n",
    "        'mean smoothness', 'mean compactness', 'mean concavity',\n",
    "        'mean concave points', 'mean symmetry', 'mean fractal dimension',\n",
    "        'radius error', 'texture error', 'perimeter error', 'area error',\n",
    "        'smoothness error', 'compactness error', 'concavity error',\n",
    "        'concave points error', 'symmetry error',\n",
    "        'fractal dimension error', 'worst radius', 'worst texture',\n",
    "        'worst perimeter', 'worst area', 'worst smoothness',\n",
    "        'worst compactness', 'worst concavity', 'worst concave points',\n",
    "        'worst symmetry', 'worst fractal dimension', 'target']\n",
    "\n",
    "df[\"target\"] = df[\"target\"].astype(int)\n",
    "df.head()"
   ]
  },
  {
   "cell_type": "code",
   "execution_count": null,
   "id": "59830c29",
   "metadata": {},
   "outputs": [],
   "source": [
    "df[\"target\"] = df[\"target\"].astype(int)\n",
    "df.head()"
   ]
  },
  {
   "cell_type": "code",
   "execution_count": null,
   "id": "128754f8",
   "metadata": {},
   "outputs": [],
   "source": [
    "df.shape"
   ]
  },
  {
   "cell_type": "code",
   "execution_count": null,
   "id": "4d5ac16e",
   "metadata": {},
   "outputs": [],
   "source": [
    "experiment.log_dataframe_profile(df, \"breast_cancer\")"
   ]
  },
  {
   "cell_type": "code",
   "execution_count": null,
   "id": "cc19e143",
   "metadata": {},
   "outputs": [],
   "source": [
    "import missingno\n",
    "import matplotlib.pyplot as plt\n",
    "import seaborn as sns\n",
    "%matplotlib inline"
   ]
  },
  {
   "cell_type": "code",
   "execution_count": null,
   "id": "479c87ba",
   "metadata": {},
   "outputs": [],
   "source": [
    "missing = missingno.bar(df).get_figure().savefig(\"images/missingno.png\")\n",
    "experiment.log_image(\"images/missingno.png\", name=\"missingno.png\", image_format=\"png\")"
   ]
  },
  {
   "cell_type": "code",
   "execution_count": null,
   "id": "f3a3f827",
   "metadata": {},
   "outputs": [],
   "source": [
    "for col in df.columns:\n",
    "    plt.figure(figsize=(10, 6))\n",
    "    sns.histplot(data=df, x=col, kde=True)\n",
    "    figure = f\"images/{col}.png\"\n",
    "    plt.savefig(figure)\n",
    "    experiment.log_image(figure, name=col, image_format=\"png\")\n",
    "    plt.show()\n",
    "plt.tight_layout()\n",
    "plt.show()"
   ]
  },
  {
   "cell_type": "code",
   "execution_count": null,
   "id": "a99fd252",
   "metadata": {},
   "outputs": [],
   "source": [
    "plt.figure(figsize=(6, 4))\n",
    "sns.histplot(data=df, x=\"target\", kde=True)\n",
    "plt.savefig(\"images/counts.png\")\n",
    "experiment.log_image(\"images/counts.png\", \"counts.png\", image_format=\"png\")\n",
    "plt.show()"
   ]
  },
  {
   "cell_type": "code",
   "execution_count": null,
   "id": "2d981699",
   "metadata": {},
   "outputs": [],
   "source": [
    "sns.pairplot(data=df)\n",
    "plt.savefig(\"images/pairplot.png\")\n",
    "experiment.log_image(\"images/pairplot.png\", \"pairplot.png\", image_format=\"png\")\n",
    "plt.show()"
   ]
  },
  {
   "cell_type": "code",
   "execution_count": null,
   "id": "474776ac",
   "metadata": {},
   "outputs": [],
   "source": [
    "plt.figure(figsize=(8, 6))\n",
    "sns.heatmap(df.corr(), annot=True, cmap='coolwarm')\n",
    "plt.savefig(\"images/corr_heatmap.png\")\n",
    "experiment.log_image(\"images/corr_heatmap.png\", name=\"corr_heatmap.png\", image_format=\"png\")\n",
    "plt.show()"
   ]
  },
  {
   "cell_type": "code",
   "execution_count": null,
   "id": "2b5788e9",
   "metadata": {},
   "outputs": [],
   "source": [
    "X = df.drop(\"target\", axis=1)\n",
    "y = df[\"target\"]"
   ]
  },
  {
   "cell_type": "code",
   "execution_count": null,
   "id": "78055ab5",
   "metadata": {},
   "outputs": [],
   "source": [
    "from sklearn.model_selection import train_test_split\n",
    "\n",
    "X_train, X_test, y_train, y_test = train_test_split(X, y, test_size=0.2)"
   ]
  },
  {
   "cell_type": "code",
   "execution_count": null,
   "id": "06089f44",
   "metadata": {},
   "outputs": [],
   "source": [
    "from sklearn.metrics import accuracy_score, f1_score, precision_score, recall_score\n",
    "\n",
    "def compute_metrics(y_pred, y_test):\n",
    "    metrics = {}\n",
    "    metrics['accuracy'] =  accuracy_score(y_test, y_pred)\n",
    "    metrics['f1-score'] = f1_score(y_test, y_pred)\n",
    "    metrics['precision'] = precision_score(y_test, y_pred)\n",
    "    metrics['recall'] = recall_score(y_test, y_pred)\n",
    "    return metrics"
   ]
  },
  {
   "cell_type": "code",
   "execution_count": null,
   "id": "1320b25a",
   "metadata": {},
   "outputs": [],
   "source": [
    "import pickle\n",
    "\n",
    "def model_experiment(ml_model, model_name):\n",
    "    experiment = Experiment()\n",
    "    experiment.set_name(model_name)\n",
    "    experiment.add_tag(model_name)\n",
    "    model = ml_model()\n",
    "    \n",
    "    with experiment.train():    \n",
    "        model.fit(X_train, y_train)\n",
    "        y_pred = model.predict(X_train)\n",
    "        train_metrics = compute_metrics(y_pred, y_train)\n",
    "        experiment.log_metrics(train_metrics)\n",
    "        \n",
    "        with open(f\"models/{model_name}.pkl\", 'wb') as file:  \n",
    "            pickle.dump(model, file)\n",
    "            experiment.log_model(model_name, f\"models/{model_name}.pkl\")\n",
    "        \n",
    "    \n",
    "    with experiment.validate():\n",
    "        y_pred = model.predict(X_test)\n",
    "        test_metrics = compute_metrics(y_pred, y_test)\n",
    "        experiment.log_metrics(test_metrics)\n",
    "        experiment.log_confusion_matrix(y_test, y_pred)\n",
    "        \n",
    "    experiment.end()"
   ]
  },
  {
   "cell_type": "code",
   "execution_count": null,
   "id": "1537fc76",
   "metadata": {},
   "outputs": [],
   "source": [
    "from sklearn.naive_bayes import GaussianNB\n",
    "from sklearn.neighbors import KNeighborsClassifier\n",
    "from sklearn.ensemble import RandomForestClassifier\n",
    "\n",
    "model_experiment(GaussianNB, 'GaussianNB')\n",
    "model_experiment(KNeighborsClassifier, 'KNeighborsClassifier')\n",
    "model_experiment(RandomForestClassifier, 'RandomForest')"
   ]
  },
  {
   "cell_type": "code",
   "execution_count": null,
   "id": "5ae6af44",
   "metadata": {},
   "outputs": [],
   "source": []
  },
  {
   "cell_type": "code",
   "execution_count": null,
   "id": "19a6911c",
   "metadata": {},
   "outputs": [],
   "source": []
  }
 ],
 "metadata": {
  "kernelspec": {
   "display_name": "Python 3 (ipykernel)",
   "language": "python",
   "name": "python3"
  },
  "language_info": {
   "codemirror_mode": {
    "name": "ipython",
    "version": 3
   },
   "file_extension": ".py",
   "mimetype": "text/x-python",
   "name": "python",
   "nbconvert_exporter": "python",
   "pygments_lexer": "ipython3",
   "version": "3.10.6"
  }
 },
 "nbformat": 4,
 "nbformat_minor": 5
}
